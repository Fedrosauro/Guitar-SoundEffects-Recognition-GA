{
 "cells": [
  {
   "cell_type": "markdown",
   "metadata": {},
   "source": [
    "### Creating audio with effects"
   ]
  },
  {
   "cell_type": "code",
   "execution_count": 2,
   "metadata": {},
   "outputs": [],
   "source": [
    "from pedalboard import Pedalboard, Reverb, Chorus, Distortion, Delay, Phaser, Compressor, Gain, Clipping\n",
    "from pedalboard.io import AudioFile"
   ]
  },
  {
   "cell_type": "code",
   "execution_count": 1,
   "metadata": {},
   "outputs": [],
   "source": [
    "def create_effected_audio(board, audio_name, effect, intensity):\n",
    "    input_file = \"../audios/\" + audio_name + \".mp3\"\n",
    "    with AudioFile(input_file) as f:\n",
    "        #Format audio output\n",
    "        output_file = \"../audios/\" + audio_name + \"_\" + effect + \"_\" + intensity + \".mp3\"\n",
    "        with AudioFile(output_file, 'w', f.samplerate, f.num_channels) as o:\n",
    "            while f.tell() < f.frames:\n",
    "                chunk = f.read(f.samplerate)\n",
    "                effected = board(chunk, f.samplerate, reset=False)\n",
    "                o.write(effected)"
   ]
  },
  {
   "cell_type": "markdown",
   "metadata": {},
   "source": [
    "base test"
   ]
  },
  {
   "cell_type": "code",
   "execution_count": 3,
   "metadata": {},
   "outputs": [],
   "source": [
    "#make a Pedalboard object, containing multiple audio plugins:\n",
    "board1 = Pedalboard([Delay(delay_seconds= 3.35), Reverb(wet_level=0.93), Chorus(rate_hz=35.11)])\n",
    "\n",
    "#open an audio file for reading, just like a regular file:\n",
    "with AudioFile('G4_guitar.mp3') as f:\n",
    "\n",
    " #open an audio file to write to:\n",
    " with AudioFile('errorAudioFile.mp3', 'w', f.samplerate, f.num_channels) as o:\n",
    "  #read one second of audio at a time, until the file is empty:\n",
    "  while f.tell() < f.frames:\n",
    "   chunk = f.read(f.samplerate)\n",
    "\n",
    "   #run the audio through our pedalboard:\n",
    "   effected = board1(chunk, f.samplerate, reset=False)\n",
    "\n",
    "   #write the output to our output file:\n",
    "   o.write(effected)"
   ]
  },
  {
   "cell_type": "code",
   "execution_count": 5,
   "metadata": {},
   "outputs": [],
   "source": [
    "# Define parameter dictionaries\n",
    "reverb_low = {'wet_level': 0.4}\n",
    "reverb_medium = {'wet_level': 0.6}\n",
    "reverb_high = {'wet_level': 0.8}\n",
    "\n",
    "chorus_low = {'rate_hz': 20}\n",
    "chorus_medium = {'rate_hz': 50}\n",
    "chorus_high = {'rate_hz': 80}\n",
    "\n",
    "distortion_low = {'drive_db': 20}\n",
    "distortion_medium = {'drive_db': 30}\n",
    "distortion_high = {'drive_db': 40}\n",
    "\n",
    "delay_low = {'delay_seconds': 1}\n",
    "delay_medium = {'delay_seconds': 2}\n",
    "delay_high = {'delay_seconds': 3}\n",
    "\n",
    "phaser_low = {'depth': 0.2}\n",
    "phaser_medium = {'depth': 0.5}\n",
    "phaser_high = {'depth': 0.7}\n",
    "\n",
    "compressor_low = {'threshold_db': -40, 'ratio': 10}\n",
    "compressor_medium = {'threshold_db': -60, 'ratio': 15}\n",
    "compressor_high = {'threshold_db': -80, 'ratio': 20}\n",
    "\n",
    "gain_low = {'gain_db': 20}\n",
    "gain_medium = {'gain_db': 40}\n",
    "gain_high = {'gain_db': 60}\n",
    "\n",
    "clipping_low = {'threshold_db': -20}\n",
    "clipping_medium = {'threshold_db': -40}\n",
    "clipping_high = {'threshold_db': -60}\n",
    "\n",
    "audio_name = \"scala\"\n",
    "\n",
    "#Make a Pedalboard object, containing multiple audio plugins:\n",
    "board0 = Pedalboard([Reverb(**reverb_low)])\n",
    "board1 = Pedalboard([Reverb(**reverb_medium)])\n",
    "board2 = Pedalboard([Reverb(**reverb_high)])\n",
    "board3 = Pedalboard([Chorus(**chorus_low)])\n",
    "board4 = Pedalboard([Chorus(**chorus_medium)])\n",
    "board5 = Pedalboard([Chorus(**chorus_high)])\n",
    "board6 = Pedalboard([Distortion(**distortion_low)])\n",
    "board7 = Pedalboard([Distortion(**distortion_medium)])\n",
    "board8 = Pedalboard([Distortion(**distortion_high)])\n",
    "board9 = Pedalboard([Delay(**delay_low)])\n",
    "board10 = Pedalboard([Delay(**delay_medium)])\n",
    "board11 = Pedalboard([Delay(**delay_high)])\n",
    "board12 = Pedalboard([Phaser(**phaser_low)])\n",
    "board13 = Pedalboard([Phaser(**phaser_medium)])\n",
    "board14 = Pedalboard([Phaser(**phaser_high)])\n",
    "board15 = Pedalboard([Compressor(**compressor_low)])\n",
    "board16 = Pedalboard([Compressor(**compressor_medium)])\n",
    "board17 = Pedalboard([Compressor(**compressor_high)])\n",
    "board18 = Pedalboard([Gain(**gain_low)])\n",
    "board19 = Pedalboard([Gain(**gain_medium)])\n",
    "board20 = Pedalboard([Gain(**gain_high)])\n",
    "board21 = Pedalboard([Clipping(**clipping_low)])\n",
    "board22 = Pedalboard([Clipping(**clipping_medium)])\n",
    "board23 = Pedalboard([Clipping(**clipping_high)])\n",
    "\n",
    "create_effected_audio(board0, audio_name, \"Reverb\", \"low\")\n",
    "create_effected_audio(board1, audio_name, \"Reverb\", \"medium\")\n",
    "create_effected_audio(board2, audio_name, \"Reverb\", \"high\")\n",
    "create_effected_audio(board3, audio_name, \"Chorus\", \"low\")\n",
    "create_effected_audio(board4, audio_name, \"Chorus\", \"medium\")\n",
    "create_effected_audio(board5, audio_name, \"Chorus\", \"high\")\n",
    "create_effected_audio(board6, audio_name, \"Distortion\", \"low\")\n",
    "create_effected_audio(board7, audio_name, \"Distortion\", \"medium\")\n",
    "create_effected_audio(board8, audio_name, \"Distortion\", \"high\")\n",
    "create_effected_audio(board9, audio_name, \"Delay\", \"low\")\n",
    "create_effected_audio(board10, audio_name, \"Delay\", \"medium\")\n",
    "create_effected_audio(board11, audio_name, \"Delay\", \"high\")\n",
    "create_effected_audio(board12, audio_name, \"Phaser\", \"low\")\n",
    "create_effected_audio(board13, audio_name, \"Phaser\", \"medium\")\n",
    "create_effected_audio(board14, audio_name, \"Phaser\", \"high\")\n",
    "create_effected_audio(board15, audio_name, \"Compressor\", \"low\")\n",
    "create_effected_audio(board16, audio_name, \"Compressor\", \"medium\")\n",
    "create_effected_audio(board17, audio_name, \"Compressor\", \"high\")\n",
    "create_effected_audio(board18, audio_name, \"Gain\", \"low\")\n",
    "create_effected_audio(board19, audio_name, \"Gain\", \"medium\")\n",
    "create_effected_audio(board20, audio_name, \"Gain\", \"high\")\n",
    "create_effected_audio(board21, audio_name, \"Clipping\", \"low\")\n",
    "create_effected_audio(board22, audio_name, \"Clipping\", \"medium\")\n",
    "create_effected_audio(board23, audio_name, \"Clipping\", \"high\")"
   ]
  },
  {
   "cell_type": "code",
   "execution_count": 4,
   "metadata": {},
   "outputs": [],
   "source": [
    "reverb_low = {'wet_level': 0.2}\n",
    "chorus_low = {'rate_hz': 20}\n",
    "\n",
    "audio_name = \"scala\"\n",
    "\n",
    "board0 = Pedalboard([Reverb(**reverb_low), Chorus(**chorus_low)])\n",
    "create_effected_audio(board0, audio_name, \"Reverb_Chorus\", \"low\")\n",
    "\n",
    "reverb_med = {'wet_level': 0.4}\n",
    "chorus_med = {'rate_hz': 40}\n",
    "\n",
    "board1= Pedalboard([Reverb(**reverb_med), Chorus(**chorus_med)])\n",
    "create_effected_audio(board1, audio_name, \"Reverb_Chorus\", \"med\")\n"
   ]
  },
  {
   "cell_type": "code",
   "execution_count": 5,
   "metadata": {},
   "outputs": [],
   "source": [
    "reverb_high = {'wet_level': 0.8}\n",
    "chorus_high = {'rate_hz': 60}\n",
    "\n",
    "board1= Pedalboard([Reverb(**reverb_med), Chorus(**chorus_med)])\n",
    "create_effected_audio(board1, audio_name, \"Reverb_Chorus\", \"high\")"
   ]
  },
  {
   "cell_type": "code",
   "execution_count": 7,
   "metadata": {},
   "outputs": [],
   "source": [
    "# Define the audio file name\n",
    "audio_name = \"G4_guitar\"\n",
    "\n",
    "# Define the number of reverb levels and the range for the 'wet_level' parameter\n",
    "num_reverb_levels = 10\n",
    "min_wet_level = 0.1\n",
    "max_wet_level = 1.0\n",
    "\n",
    "# Generate reverb levels\n",
    "for i in range(num_reverb_levels):\n",
    "    wet_level = min_wet_level + i * (max_wet_level - min_wet_level) / (num_reverb_levels - 1)\n",
    "    reverb_settings = {'wet_level': wet_level}\n",
    "    \n",
    "    # Create the pedalboard with the reverb settings\n",
    "    board = Pedalboard([Reverb(**reverb_settings)])\n",
    "    \n",
    "    # Define the label for the reverb level (e.g., 'Reverb level 1', 'Reverb level 2', etc.)\n",
    "    level_label = f\"level_{i+1}\"\n",
    "    \n",
    "    # Apply the effect and create the audio\n",
    "    create_effected_audio(board, audio_name, \"Reverb\", level_label)\n"
   ]
  }
 ],
 "metadata": {
  "kernelspec": {
   "display_name": "GA_testing_env",
   "language": "python",
   "name": "python3"
  },
  "language_info": {
   "codemirror_mode": {
    "name": "ipython",
    "version": 3
   },
   "file_extension": ".py",
   "mimetype": "text/x-python",
   "name": "python",
   "nbconvert_exporter": "python",
   "pygments_lexer": "ipython3",
   "version": "3.11.10"
  }
 },
 "nbformat": 4,
 "nbformat_minor": 2
}
