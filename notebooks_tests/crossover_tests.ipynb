{
 "cells": [
  {
   "cell_type": "markdown",
   "metadata": {},
   "source": [
    "Testing crossover"
   ]
  },
  {
   "cell_type": "code",
   "execution_count": 100,
   "metadata": {},
   "outputs": [
    {
     "name": "stdout",
     "output_type": "stream",
     "text": [
      "Init set: [0, 1, 2, 3, 4, 5]\n",
      "s1: [3, 1, 4]\n",
      "s2: [4, 5, 2, 0]\n",
      "Common elements: [4]\n",
      "Symmetric difference elements: [0, 1, 2, 3, 5]\n",
      "0\n",
      "2\n",
      "Modified s1: [0, 1]\n",
      "Modified s2: [4, 2, 3, 5]\n"
     ]
    }
   ],
   "source": [
    "import random\n",
    "\n",
    "init_set = [i for i in range(6)]\n",
    "print(f\"Init set: {init_set}\")\n",
    "\n",
    "s1 = random.sample(init_set, random.randint(0, 6))\n",
    "random.shuffle(s1)\n",
    "print(f\"s1: {s1}\")\n",
    "\n",
    "s2 = random.sample(init_set, random.randint(0, 6))\n",
    "random.shuffle(s2)\n",
    "print(f\"s2: {s2}\")\n",
    "\n",
    "\n",
    "# Convert lists to sets for efficient intersection\n",
    "set1 = set(s1)\n",
    "set2 = set(s2)\n",
    "\n",
    "# Find the intersection of the sets (common elements)\n",
    "common_elements = list(set1 & set2)\n",
    "different_elements = list(set1 ^ set2)\n",
    "\n",
    "print(f\"Common elements: {common_elements}\")\n",
    "print(f\"Symmetric difference elements: {different_elements}\")\n",
    "\n",
    "s1 = []\n",
    "s2 = []\n",
    "\n",
    "# Choose random indices\n",
    "if len(common_elements) != 0:\n",
    "    index_1 = len(common_elements) // 2\n",
    "    print(index_1)\n",
    "    # Modify s1 and s2 based on common elements\n",
    "    for i in range(len(common_elements)):\n",
    "        if i < index_1:\n",
    "            s1.append(common_elements[i])\n",
    "        else:\n",
    "            s2.append(common_elements[i])\n",
    "            \n",
    "if len(different_elements) != 0:\n",
    "    index_2 = len(different_elements) // 2\n",
    "    print(index_2)\n",
    "    # Modify s1 and s2 based on symmetric difference elements\n",
    "    for j in range(len(different_elements)):\n",
    "        if j < index_2:\n",
    "            s1.append(different_elements[j])\n",
    "        else:\n",
    "            s2.append(different_elements[j])\n",
    "\n",
    "        \n",
    "print(\"Modified s1:\", s1)\n",
    "print(\"Modified s2:\", s2)"
   ]
  },
  {
   "cell_type": "code",
   "execution_count": 102,
   "metadata": {},
   "outputs": [],
   "source": [
    "from copy import deepcopy\n",
    "\n",
    "def crossover(parent_1, parent_2):\n",
    "    offspring_1 = deepcopy(parent_1)\n",
    "    offspring_2 = deepcopy(parent_2)\n",
    "    \n",
    "    set1, set2 = set(parent_1.keys()), set(parent_2.keys())\n",
    "    common_keys = list(set1 & set2) #find common and different keys\n",
    "    different_keys = list(set1 ^ set2)\n",
    "\n",
    "    #modify offspring based on common elements\n",
    "    if common_keys:\n",
    "        index_1 = random.randint(0, len(common_keys) - 1)\n",
    "        for i in range(index_1):\n",
    "            key = common_keys[i]\n",
    "            offspring_1[key], offspring_2[key] = offspring_2[key], offspring_1[key]\n",
    "\n",
    "    #modify offspring based on symmetric difference elements\n",
    "    if different_keys:\n",
    "        index_2 = random.randint(0, len(different_keys) - 1)\n",
    "        for j in range(index_2):\n",
    "            key = different_keys[j]\n",
    "            if key in offspring_1:\n",
    "                offspring_2[key] = offspring_1.pop(key)\n",
    "            else:\n",
    "                offspring_1[key] = offspring_2.pop(key)\n",
    "\n",
    "    return offspring_1, offspring_2"
   ]
  },
  {
   "cell_type": "code",
   "execution_count": 104,
   "metadata": {},
   "outputs": [
    {
     "name": "stderr",
     "output_type": "stream",
     "text": [
      "C:\\Users\\pelli\\AppData\\Local\\Temp\\ipykernel_26084\\850497507.py:13: FutureWarning: Setting an item of incompatible dtype is deprecated and will raise an error in a future version of pandas. Value '[effect1, effect2]' has dtype incompatible with float64, please explicitly cast to a compatible dtype first.\n",
      "  df.loc[mask, 'GA_effects'] = res['GA_effects']\n"
     ]
    }
   ],
   "source": [
    "import pandas as pd\n",
    "\n",
    "df = pd.read_csv('./results/dataset_audios_guitar_low_ranges_pumped.csv')\n",
    "\n",
    "res = {\n",
    "    'audio_name': '0.mp3',\n",
    "    'GA_effects': '[effect1, effect2]',\n",
    "    'similarity_indv': 0.345\n",
    "}\n",
    "\n",
    "mask = df['audio_name'] == '0.mp3'\n",
    "\n",
    "df.loc[mask, 'GA_effects'] = res['GA_effects']\n",
    "df.loc[mask, 'similarity_indv'] = res['similarity_indv']\n",
    "\n",
    "df.to_csv('./results/dataset_audios_guitar_low_ranges_pumped.csv', index=False)\n"
   ]
  }
 ],
 "metadata": {
  "kernelspec": {
   "display_name": "GA_testing_env",
   "language": "python",
   "name": "python3"
  },
  "language_info": {
   "codemirror_mode": {
    "name": "ipython",
    "version": 3
   },
   "file_extension": ".py",
   "mimetype": "text/x-python",
   "name": "python",
   "nbconvert_exporter": "python",
   "pygments_lexer": "ipython3",
   "version": "3.11.10"
  }
 },
 "nbformat": 4,
 "nbformat_minor": 2
}
