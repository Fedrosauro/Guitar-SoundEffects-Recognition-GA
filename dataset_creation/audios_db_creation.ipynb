{
 "cells": [
  {
   "cell_type": "markdown",
   "metadata": {},
   "source": [
    "## Dataset Audios creation"
   ]
  },
  {
   "cell_type": "markdown",
   "metadata": {},
   "source": [
    "##### Randomi MIDI file creation"
   ]
  },
  {
   "cell_type": "code",
   "execution_count": 8,
   "metadata": {},
   "outputs": [],
   "source": [
    "import random\n",
    "from basic_pitch import ICASSP_2022_MODEL_PATH, inference"
   ]
  },
  {
   "cell_type": "code",
   "execution_count": 20,
   "metadata": {},
   "outputs": [],
   "source": [
    "def create_individual(effects, effect_structure):\n",
    "    n_effects_chosen = random.randint(1, len(effects))\n",
    "    selected_effects = random.sample(effects, n_effects_chosen)\n",
    "    \n",
    "    individ = {}\n",
    "    for effect in selected_effects:\n",
    "        if effect in effect_structure:\n",
    "            structure = effect_structure[effect]\n",
    "            individ[effect] = {\n",
    "                param: round(random.uniform(range_[0], range_[1]), 2) \n",
    "                for param, (_, range_) in structure.items()\n",
    "            }\n",
    "    return individ"
   ]
  },
  {
   "cell_type": "code",
   "execution_count": 19,
   "metadata": {},
   "outputs": [],
   "source": [
    "n_effects = 6\n",
    "effects = [i for i in range(n_effects)]\n",
    "effect_structure = {\n",
    "    0: { \"rate_hz\": ('float', (0.0, 100.0)), },# Chorus\n",
    "    1: { \"delay_seconds\": ('float', (0.0, 10.0)), },# Delay\n",
    "    2: { \"drive_db\": ('float', (0.0, 50.0)), },# Distortion\n",
    "    3: { \"gain_db\": ('float', (-50.0, 50.0)) },# Gain\n",
    "    4: { \"depth\": ('float', (0.0, 1.0)), },# Phaser\n",
    "    5: { \"wet_level\": ('float', (0.0, 1.0)), },# Reverb\n",
    "}"
   ]
  },
  {
   "cell_type": "code",
   "execution_count": 10,
   "metadata": {},
   "outputs": [
    {
     "data": {
      "text/plain": [
       "{0: {'rate_hz': 61.36}, 3: {'gain_db': 21.29}, 1: {'delay_seconds': 4.48}}"
      ]
     },
     "execution_count": 10,
     "metadata": {},
     "output_type": "execute_result"
    }
   ],
   "source": [
    "create_individual(effects, effect_structure)"
   ]
  },
  {
   "cell_type": "markdown",
   "metadata": {},
   "source": [
    "Testing similarity between 2 individuals"
   ]
  },
  {
   "cell_type": "code",
   "execution_count": 10,
   "metadata": {},
   "outputs": [],
   "source": [
    "import random\n",
    "import pretty_midi\n",
    "\n",
    "def generate_random_instrument_midi(filename, program, min_duration, max_duration, min_note, max_note):\n",
    "    # Create a PrettyMIDI object\n",
    "    midi_data = pretty_midi.PrettyMIDI()\n",
    "    \n",
    "    # Create an Instrument instance for a distortion instrument\n",
    "    instrument = pretty_midi.Instrument(program=program)\n",
    "    \n",
    "    # Determine the length of the MIDI in seconds\n",
    "    duration = random.randint(min_duration, max_duration)\n",
    "    min_note_number = pretty_midi.note_name_to_number(min_note)\n",
    "    max_note_number = pretty_midi.note_name_to_number(max_note)\n",
    "    \n",
    "    # Generate random notes\n",
    "    current_time = 0.0\n",
    "    while current_time < duration:\n",
    "        note_number = random.randint(min_note_number, max_note_number)\n",
    "        \n",
    "        # Random note duration between 0.1 and 1.0 seconds\n",
    "        note_duration = random.uniform(0.1, 2.0)\n",
    "        \n",
    "        # Ensure that the note ends before the total duration\n",
    "        note_end_time = min(current_time + note_duration, duration)\n",
    "        \n",
    "        # Create a Note instance and add it to the instrument instrument\n",
    "        note = pretty_midi.Note(\n",
    "            velocity=random.randint(60, 127),  # Random velocity\n",
    "            pitch=note_number,\n",
    "            start=current_time,\n",
    "            end=note_end_time\n",
    "        )\n",
    "        instrument.notes.append(note)\n",
    "        \n",
    "        # Update the current time\n",
    "        current_time = note_end_time\n",
    "    \n",
    "    # Add the instrument instrument to the PrettyMIDI object\n",
    "    midi_data.instruments.append(instrument)\n",
    "    \n",
    "    # Write out the MIDI data to a file\n",
    "    midi_data.write(filename)\n",
    "    \n",
    "    return midi_data\n"
   ]
  },
  {
   "cell_type": "code",
   "execution_count": 81,
   "metadata": {},
   "outputs": [
    {
     "name": "stdout",
     "output_type": "stream",
     "text": [
      "['_PrettyMIDI__tick_to_time', '__class__', '__delattr__', '__dict__', '__dir__', '__doc__', '__eq__', '__format__', '__ge__', '__getattribute__', '__getstate__', '__gt__', '__hash__', '__init__', '__init_subclass__', '__le__', '__lt__', '__module__', '__ne__', '__new__', '__reduce__', '__reduce_ex__', '__repr__', '__setattr__', '__sizeof__', '__str__', '__subclasshook__', '__weakref__', '_load_instruments', '_load_metadata', '_load_tempo_changes', '_tick_scales', '_update_tick_to_time', 'adjust_times', 'estimate_beat_start', 'estimate_tempi', 'estimate_tempo', 'fluidsynth', 'get_beats', 'get_chroma', 'get_downbeats', 'get_end_time', 'get_onsets', 'get_piano_roll', 'get_pitch_class_histogram', 'get_pitch_class_transition_matrix', 'get_tempo_changes', 'instruments', 'key_signature_changes', 'lyrics', 'remove_invalid_notes', 'resolution', 'synthesize', 'text_events', 'tick_to_time', 'time_signature_changes', 'time_to_tick', 'write']\n",
      "{'resolution': 220, '_tick_scales': [(0, 0.0022727272727272726)], '_PrettyMIDI__tick_to_time': [0], 'instruments': [Instrument(program=30, is_drum=False, name=\"\")], 'key_signature_changes': [], 'time_signature_changes': [], 'lyrics': [], 'text_events': []}\n",
      "Tempo changes: (array([0.]), array([120.]))\n",
      "Time signature changes: []\n",
      "Instruments: [Note(start=0.000000, end=0.454291, pitch=81, velocity=117), Note(start=0.454291, end=0.567613, pitch=64, velocity=86), Note(start=0.567613, end=1.177444, pitch=70, velocity=108), Note(start=1.177444, end=1.582326, pitch=65, velocity=113), Note(start=1.582326, end=2.427211, pitch=74, velocity=91), Note(start=2.427211, end=3.504196, pitch=63, velocity=105), Note(start=3.504196, end=3.952830, pitch=73, velocity=68), Note(start=3.952830, end=5.511478, pitch=83, velocity=121), Note(start=5.511478, end=6.213073, pitch=84, velocity=74), Note(start=6.213073, end=6.367061, pitch=82, velocity=72), Note(start=6.367061, end=7.681202, pitch=49, velocity=101), Note(start=7.681202, end=8.117872, pitch=46, velocity=79), Note(start=8.117872, end=9.276710, pitch=76, velocity=75), Note(start=9.276710, end=9.890765, pitch=41, velocity=124), Note(start=9.890765, end=10.922984, pitch=88, velocity=72), Note(start=10.922984, end=11.865326, pitch=86, velocity=89), Note(start=11.865326, end=13.000000, pitch=80, velocity=112)]\n",
      "<pretty_midi.pretty_midi.PrettyMIDI object at 0x00000256BCE05D90>\n"
     ]
    }
   ],
   "source": [
    "midi_file = 'output.mid'\n",
    "program = 30\n",
    "min_note = 'E2'\n",
    "max_note = 'E6' # Generate a random note between MIDI note 40 (E2) and 88 (E6) so basically all notes of the guitar\n",
    "min_duration = 1\n",
    "max_duration = 20\n",
    "\n",
    "midi_data = generate_random_instrument_midi(midi_file, program, min_duration, max_duration, min_note, max_note)\n",
    "\n",
    "# Using dir() to list all properties and methods\n",
    "print(dir(midi_data))\n",
    "\n",
    "# Using __dict__ to see instance attributes\n",
    "print(midi_data.__dict__)\n",
    "\n",
    "# Accessing some specific properties\n",
    "print(\"Tempo changes:\", midi_data.get_tempo_changes())\n",
    "print(\"Time signature changes:\", midi_data.time_signature_changes)\n",
    "print(\"Instruments:\", midi_data.instruments[0].notes)\n",
    "print(midi_data)\n"
   ]
  },
  {
   "cell_type": "code",
   "execution_count": 14,
   "metadata": {},
   "outputs": [],
   "source": [
    "from pedalboard import Pedalboard, Reverb, Chorus, Distortion, Delay, Phaser, Compressor, Gain, Clipping\n",
    "from pedalboard.io import AudioFile\n",
    "\n",
    "def create_effected_audio(board, file_path, output_file):\n",
    "    with AudioFile(file_path) as f:\n",
    "        with AudioFile(output_file, 'w', f.samplerate, f.num_channels) as o:\n",
    "            while f.tell() < f.frames:\n",
    "                chunk = f.read(f.samplerate)\n",
    "                effected = board(chunk, f.samplerate, reset=False)\n",
    "                o.write(effected)"
   ]
  },
  {
   "cell_type": "markdown",
   "metadata": {},
   "source": [
    "##### MP3 creation of the MIDI file"
   ]
  },
  {
   "cell_type": "code",
   "execution_count": 15,
   "metadata": {},
   "outputs": [],
   "source": [
    "from midi2audio import FluidSynth \n",
    "from pydub import AudioSegment\n",
    "\n",
    "def midi_to_mp3(midi_file, mp3_file, soundfont):\n",
    "    #convert MIDI to WAV using FluidSynth\n",
    "    fs = FluidSynth(soundfont)\n",
    "    wav_file = midi_file.replace('.midi', '.wav').replace('.mid', '.wav')\n",
    "    fs.midi_to_audio(midi_file, wav_file)\n",
    "\n",
    "    #convert WAV to MP3 using pydub\n",
    "    sound = AudioSegment.from_wav(wav_file)\n",
    "    sound.export(mp3_file, format=\"mp3\")"
   ]
  },
  {
   "cell_type": "code",
   "execution_count": 22,
   "metadata": {},
   "outputs": [
    {
     "name": "stdout",
     "output_type": "stream",
     "text": [
      "Conversion complete: output.mp3\n"
     ]
    }
   ],
   "source": [
    "midi_file = \"output.mid\"\n",
    "mp3_file = \"output.mp3\"\n",
    "soundfont = '../audio2midi2audio/FluidR3_GM.sf2'  # Path to your SoundFont file\n",
    "\n",
    "midi_to_mp3(midi_file, mp3_file, soundfont)"
   ]
  },
  {
   "cell_type": "markdown",
   "metadata": {},
   "source": [
    "##### From MIDI back to MP3"
   ]
  },
  {
   "cell_type": "code",
   "execution_count": 21,
   "metadata": {},
   "outputs": [],
   "source": [
    "def mp3_to_midi(audio_path, midi_path):\n",
    "    _, midi_data, __ = inference.predict(\n",
    "        audio_path,    \n",
    "        model_or_model_path = ICASSP_2022_MODEL_PATH, \n",
    "        onset_threshold = 0.6, #note segmentation 1) how easily a note should be split into two. (split notes <- ..0.5.. -> merge notes)\n",
    "        frame_threshold = 0.6, #model confidence threshold 2) the model confidence required to create a note. (more notes <- ..0.3.. -> fewer notes)\n",
    "    )\n",
    "\n",
    "    for instrument in midi_data.instruments:\n",
    "        instrument.program = 30 #distortion guitar program\n",
    "\n",
    "    midi_data.write(midi_path)\n",
    "    \n",
    "    return midi_data"
   ]
  },
  {
   "cell_type": "markdown",
   "metadata": {},
   "source": [
    "## DT creation"
   ]
  },
  {
   "cell_type": "code",
   "execution_count": 21,
   "metadata": {},
   "outputs": [],
   "source": [
    "import pandas as pd\n",
    "\n",
    "def audios_dataset_creation(data, n_data, midi_file, mp3_file, csv_filename, soundfont, program, min_note, max_note, min_duration, max_duration, effects, effect_structure, effects_map):\n",
    "    for i in range(n_data):\n",
    "        generate_random_instrument_midi(midi_file, program, min_duration, max_duration, min_note, max_note)\n",
    "        midi_to_mp3(midi_file, mp3_file, soundfont)\n",
    "        individual = create_individual(effects, effect_structure)\n",
    "        board = Pedalboard([])\n",
    "        for effect_key, params in individual.items():\n",
    "            effect_class = globals()[effects_map[effect_key]]\n",
    "            board.append(effect_class(**params))\n",
    "            \n",
    "        output_file = str(i) + \".mp3\"\n",
    "        create_effected_audio(board, mp3_file, \"audios/\" + output_file)\n",
    "        data[\"audio_name\"].append(output_file)\n",
    "        data[\"applied_effects\"].append(individual)\n",
    "        data[\"GA_effects\"].append(\"\")\n",
    "    \n",
    "    # Once all the data is collected, you can create the DataFrame\n",
    "    df = pd.DataFrame(data)\n",
    "\n",
    "    # Save the DataFrame to a CSV file\n",
    "    df.to_csv(csv_filename, index=False)\n",
    "    print(f\"CSV file '{csv_filename}' created successfully.\")"
   ]
  },
  {
   "cell_type": "markdown",
   "metadata": {},
   "source": [
    "Small test"
   ]
  },
  {
   "cell_type": "code",
   "execution_count": 29,
   "metadata": {},
   "outputs": [
    {
     "name": "stdout",
     "output_type": "stream",
     "text": [
      "<Pedalboard with 4 plugins: [<pedalboard.Distortion drive_db=8.06 at 00000208D31CB0D0>, <pedalboard.Delay delay_seconds=2.52 feedback=0 mix=0.5 at 00000208D30B9AA0>, <pedalboard.Clipping threshold_db=-0.97 at 00000208D32AC400>, <pedalboard.Gain gain_db=-7.94 at 00000208D31B6DD0>]>\n"
     ]
    }
   ],
   "source": [
    "individ= {2: {'drive_db': 8.06},\n",
    " 1: {'delay_seconds': 2.52},\n",
    " 7: {'threshold_db': -0.97},\n",
    " 3: {'gain_db': -7.94}}\n",
    "board = Pedalboard([])\n",
    "for effect_key, params in individ.items():\n",
    "    effect_class = globals()[effects_map[effect_key]]\n",
    "    board.append(effect_class(**params))\n",
    "            \n",
    "print(board)\n",
    "output_file = \"G4_guitar_TEST.mp3\"\n",
    "create_effected_audio(board, '../audios/G4_guitar.mp3', output_file)"
   ]
  },
  {
   "cell_type": "code",
   "execution_count": 22,
   "metadata": {},
   "outputs": [],
   "source": [
    "data = {\n",
    "    \"audio_name\": [],\n",
    "    \"or_midi\": [], \n",
    "    \"gen_midi\": []\n",
    "}\n",
    "\n",
    "n_data = 500\n",
    "midi_file = 'output.mid'\n",
    "mp3_file = 'output.mp3'\n",
    "csv_filename = \"../results/dataset_audios2.csv\"\n",
    "soundfont = '../audio2midi2audio/FluidR3_GM.sf2'  # Path to your SoundFont file\n",
    "program = 30\n",
    "min_note = 'E2'\n",
    "max_note = 'E6' # Generate a random note between MIDI note 40 (E2) and 88 (E6)\n",
    "min_duration = 3\n",
    "max_duration = 10\n",
    "n_effects = 6\n",
    "effects = [i for i in range(n_effects)]\n",
    "effect_structure = {\n",
    "    0: { \"rate_hz\": ('float', (0.0, 100.0)), },# Chorus\n",
    "    1: { \"delay_seconds\": ('float', (0.0, 10.0)), },# Delay\n",
    "    2: { \"drive_db\": ('float', (0.0, 50.0)), },# Distortion\n",
    "    3: { \"gain_db\": ('float', (-50.0, 50.0)) },# Gain\n",
    "    4: { \"depth\": ('float', (0.0, 1.0)), },# Phaser\n",
    "    5: { \"wet_level\": ('float', (0.0, 1.0)), },# Reverb\n",
    "}\n",
    "effects_map = {\n",
    "    0: 'Chorus',\n",
    "    1: 'Delay',\n",
    "    2: 'Distortion',\n",
    "    3: 'Gain',\n",
    "    4: 'Phaser',\n",
    "    5: 'Reverb',\n",
    "}"
   ]
  },
  {
   "cell_type": "code",
   "execution_count": null,
   "metadata": {},
   "outputs": [],
   "source": [
    "audios_dataset_creation(data, n_data, midi_file, mp3_file, csv_filename, soundfont, program, min_note, max_note, min_duration, max_duration, effects, effect_structure, effects_map)"
   ]
  }
 ],
 "metadata": {
  "kernelspec": {
   "display_name": "Python 3",
   "language": "python",
   "name": "python3"
  },
  "language_info": {
   "codemirror_mode": {
    "name": "ipython",
    "version": 3
   },
   "file_extension": ".py",
   "mimetype": "text/x-python",
   "name": "python",
   "nbconvert_exporter": "python",
   "pygments_lexer": "ipython3",
   "version": "3.11.9"
  }
 },
 "nbformat": 4,
 "nbformat_minor": 2
}
