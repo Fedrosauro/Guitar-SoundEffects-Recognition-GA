{
 "cells": [
  {
   "cell_type": "markdown",
   "metadata": {},
   "source": [
    "### Testing similarity between individuals"
   ]
  },
  {
   "cell_type": "code",
   "execution_count": 4,
   "metadata": {},
   "outputs": [],
   "source": [
    "import random\n",
    "import ast"
   ]
  },
  {
   "cell_type": "code",
   "execution_count": 3,
   "metadata": {},
   "outputs": [],
   "source": [
    "def create_individual(effects, effect_structure):\n",
    "    n_effects_chosen = random.randint(1, len(effects) - 2)\n",
    "    selected_effects = random.sample(effects, n_effects_chosen)\n",
    "    \n",
    "    individ = {}\n",
    "    for effect in selected_effects:\n",
    "        if effect in effect_structure:\n",
    "            structure = effect_structure[effect]\n",
    "            individ[effect] = {\n",
    "                param: round(random.uniform(range_[0], range_[1]), 2) \n",
    "                for param, (_, range_) in structure.items()\n",
    "            }\n",
    "    return individ"
   ]
  },
  {
   "cell_type": "code",
   "execution_count": 2,
   "metadata": {},
   "outputs": [],
   "source": [
    "n_effects = 6\n",
    "effects = [i for i in range(n_effects)]\n",
    "effect_structure = {\n",
    "    0: { \"rate_hz\": ('float', (0.0, 100.0)), },# Chorus\n",
    "    1: { \"delay_seconds\": ('float', (0.0, 10.0)), },# Delay\n",
    "    2: { \"drive_db\": ('float', (0.0, 50.0)), },# Distortion\n",
    "    3: { \"gain_db\": ('float', (-50.0, 50.0)) },# Gain\n",
    "    4: { \"depth\": ('float', (0.0, 1.0)), },# Phaser\n",
    "    5: { \"wet_level\": ('float', (0.0, 1.0)), },# Reverb\n",
    "}\n",
    "effects_map = {\n",
    "    0: 'Chorus',\n",
    "    1: 'Delay',\n",
    "    2: 'Distortion',\n",
    "    3: 'Gain',\n",
    "    4: 'Phaser',\n",
    "    5: 'Reverb',\n",
    "}"
   ]
  },
  {
   "cell_type": "code",
   "execution_count": 4,
   "metadata": {},
   "outputs": [
    {
     "name": "stdout",
     "output_type": "stream",
     "text": [
      "{4: {'depth': 0.68}, 5: {'wet_level': 0.7}, 1: {'delay_seconds': 7.55}, 0: {'rate_hz': 61.65}}\n",
      "{3: {'gain_db': -22.02}, 2: {'drive_db': 37.43}}\n",
      "0.0\n"
     ]
    }
   ],
   "source": [
    "individ1 = create_individual(effects, effect_structure)\n",
    "individ2 = create_individual(effects, effect_structure)\n",
    "\n",
    "print(individ1)\n",
    "print(individ2)\n",
    "\n",
    "# Extract common keys\n",
    "common_keys = individ1.keys() & individ2.keys()\n",
    "\n",
    "similarity_value = 0.0\n",
    "for key in common_keys:\n",
    "    weight = min(1 / len(individ1), 1 / len(individ2))\n",
    "    #print(f'Key: {key}, weight: {weight}')\n",
    "    \n",
    "    inner_dict = effect_structure[key]\n",
    "    lower_v = None\n",
    "    max_v = None\n",
    "    for param, value in inner_dict.items():\n",
    "        lower_v = value[1][0]\n",
    "        max_v = value[1][1]\n",
    "                \n",
    "    param_name = list(effect_structure[key].keys())[0]\n",
    "    r = individ1[key][param_name]\n",
    "    x = individ2[key][param_name]\n",
    "    \n",
    "    #print(\"r = \", r)\n",
    "    #print(\"x = \", x)\n",
    "    #print(\"low limit = \", lower_v)\n",
    "    #print(\"max limit = \", max_v)\n",
    "    \n",
    "    distance_to_lower_v = abs(r - lower_v)\n",
    "    distance_to_max_v = abs(r - max_v)\n",
    "    \n",
    "    limit_chosen = None\n",
    "    if distance_to_lower_v < distance_to_max_v:\n",
    "        limit_chosen = max_v\n",
    "    else:\n",
    "        limit_chosen = lower_v\n",
    "    \n",
    "    #print(\"abs(x - r) = \", abs(x - r))\n",
    "    #print(\"abs(r - limit_chosen) = \", abs(r - limit_chosen))\n",
    "    \n",
    "    obtained_value_normalized = 1 - abs(x - r)/abs(r - limit_chosen)\n",
    "    similarity_value += weight * obtained_value_normalized\n",
    "    \n",
    "print(similarity_value)"
   ]
  },
  {
   "cell_type": "code",
   "execution_count": 5,
   "metadata": {},
   "outputs": [],
   "source": [
    "def similarity_individuals(individ1, individ2):\n",
    "    common_keys = individ1.keys() & individ2.keys()\n",
    "    similarity = 0.0\n",
    "    for key in common_keys:\n",
    "        weight = min(1 / len(individ1), 1 / len(individ2))        \n",
    "        inner_dict = effect_structure[key]\n",
    "        param_name, (range_name, (lower_v, max_v)) = next(iter(inner_dict.items()))\n",
    "         \n",
    "        param_name = list(effect_structure[key].keys())[0]\n",
    "        r = individ1[key][param_name]\n",
    "        x = individ2[key][param_name]\n",
    "        \n",
    "        limit_chosen = max_v if abs(r - lower_v) < abs(r - max_v) else lower_v\n",
    "        \n",
    "        obtained_value_normalized = 1 - abs(x - r)/abs(r - limit_chosen)\n",
    "        similarity += weight * obtained_value_normalized\n",
    "        \n",
    "    return similarity"
   ]
  },
  {
   "cell_type": "code",
   "execution_count": 6,
   "metadata": {},
   "outputs": [
    {
     "name": "stdout",
     "output_type": "stream",
     "text": [
      "{3: {'gain_db': 21.13}}\n",
      "{5: {'wet_level': 0.61}, 1: {'delay_seconds': 9.72}, 4: {'depth': 0.64}}\n",
      "0.0\n"
     ]
    }
   ],
   "source": [
    "individ1 = create_individual(effects, effect_structure)\n",
    "individ2 = create_individual(effects, effect_structure)\n",
    "similarity = similarity_individuals(individ1, individ2)\n",
    "\n",
    "print(individ1)\n",
    "print(individ2)\n",
    "print(similarity)"
   ]
  },
  {
   "cell_type": "markdown",
   "metadata": {},
   "source": [
    "### Testing similarity on Dataset"
   ]
  },
  {
   "cell_type": "code",
   "execution_count": 7,
   "metadata": {},
   "outputs": [],
   "source": [
    "import pandas as pd\n",
    "\n",
    "df = pd.read_csv('./results/testing_results_now.csv')\n",
    "similarities = []\n",
    "for index, row in df.iterrows():\n",
    "    applied_effects = row['applied_effects']\n",
    "    ga_effects = row['GA_effects']\n",
    "\n",
    "    # Convert the string representations to dictionaries\n",
    "    if pd.notnull(applied_effects) and pd.notnull(ga_effects):\n",
    "        try:\n",
    "            applied_effects = ast.literal_eval(applied_effects)\n",
    "            ga_effects = ast.literal_eval(ga_effects)\n",
    "        except (ValueError, SyntaxError) as e:\n",
    "            print(f\"Error converting row {index}: {e}\")\n",
    "            similarities.append(None)\n",
    "            continue\n",
    "\n",
    "        # Perform the similarity calculation\n",
    "        similarities.append(similarity_individuals(applied_effects, ga_effects))\n",
    "    else:\n",
    "        # If either field is missing, append a None or other placeholder value\n",
    "        similarities.append(None)\n",
    "        \n",
    "# Add the 'similarity_indv' column to the DataFrame\n",
    "df['similarity_indv'] = pd.Series(similarities)\n",
    "\n",
    "# Save the updated DataFrame back to a CSV file\n",
    "df.to_csv('./results/testing_results_now.csv', index=False)"
   ]
  },
  {
   "cell_type": "markdown",
   "metadata": {},
   "source": [
    "### Test individual similarity on random baseline"
   ]
  },
  {
   "cell_type": "code",
   "execution_count": 7,
   "metadata": {},
   "outputs": [],
   "source": [
    "import pandas as pd\n",
    "\n",
    "df = pd.read_csv('./results/dataset_audios_guitar_random_BIG.csv')\n",
    "similarities = []\n",
    "for index, row in df.iterrows():\n",
    "    applied_effects = row['applied_effects']\n",
    "    ga_effects = row['random_effects']\n",
    "\n",
    "    # Convert the string representations to dictionaries\n",
    "    if pd.notnull(applied_effects) and pd.notnull(ga_effects):\n",
    "        try:\n",
    "            applied_effects = ast.literal_eval(applied_effects)\n",
    "            ga_effects = ast.literal_eval(ga_effects)\n",
    "        except (ValueError, SyntaxError) as e:\n",
    "            print(f\"Error converting row {index}: {e}\")\n",
    "            similarities.append(None)\n",
    "            continue\n",
    "\n",
    "        # Perform the similarity calculation\n",
    "        similarities.append(similarity_individuals(applied_effects, ga_effects))\n",
    "    else:\n",
    "        # If either field is missing, append a None or other placeholder value\n",
    "        similarities.append(None)\n",
    "        \n",
    "# Add the 'similarity_indv' column to the DataFrame\n",
    "df['similarity_indv'] = pd.Series(similarities)\n",
    "\n",
    "# Save the updated DataFrame back to a CSV file\n",
    "df.to_csv('./results/dataset_audios_guitar_random_BIG.csv', index=False)"
   ]
  },
  {
   "cell_type": "code",
   "execution_count": null,
   "metadata": {},
   "outputs": [],
   "source": [
    "df = pd.read_csv('./results/dataset_audios_guitar_random.csv')\n"
   ]
  }
 ],
 "metadata": {
  "kernelspec": {
   "display_name": "GA_testing_env",
   "language": "python",
   "name": "python3"
  },
  "language_info": {
   "codemirror_mode": {
    "name": "ipython",
    "version": 3
   },
   "file_extension": ".py",
   "mimetype": "text/x-python",
   "name": "python",
   "nbconvert_exporter": "python",
   "pygments_lexer": "ipython3",
   "version": "3.11.10"
  }
 },
 "nbformat": 4,
 "nbformat_minor": 2
}
