{
 "cells": [
  {
   "cell_type": "code",
   "execution_count": 1,
   "metadata": {},
   "outputs": [],
   "source": [
    "import pandas as pd\n",
    "import matplotlib.pyplot as plt\n",
    "import seaborn as sns"
   ]
  },
  {
   "cell_type": "code",
   "execution_count": 3,
   "metadata": {},
   "outputs": [
    {
     "data": {
      "text/plain": [
       "<Figure size 1000x600 with 0 Axes>"
      ]
     },
     "metadata": {},
     "output_type": "display_data"
    }
   ],
   "source": [
    "# Load the CSV file\n",
    "df = pd.read_csv('./results/df_model_test_3600_test.csv')\n",
    "\n",
    "# Drop rows where 'generated_midi_data' is an empty list\n",
    "df = df[df['generated_midi_data'].apply(lambda x: x != '[]')]\n",
    "\n",
    "# Line plots for median dissimilarity against columns\n",
    "columns_to_analyze = [\"threshold\", \"fan_out\", \"max_distance_atan\", \"max_key_distance\"]\n",
    "\n",
    "for column in columns_to_analyze:\n",
    "    # Group by the column and calculate the median of 'dissimilarity'\n",
    "    median_dissimilarity = df.groupby(column)[\"dissimilarity\"].median()\n",
    "    \n",
    "    # Plotting the line plot\n",
    "    plt.figure(figsize=(10, 6))\n",
    "    plt.plot(median_dissimilarity.index, median_dissimilarity.values, marker='o', linestyle='-', color='b')\n",
    "    plt.xlabel(f'{column.capitalize()} Value')\n",
    "    plt.ylabel('Median Dissimilarity')\n",
    "    plt.title(f'Median Dissimilarity vs {column.capitalize()} Value')\n",
    "    plt.grid(True)\n",
    "    \n",
    "    # Save the plot\n",
    "    plt.savefig(f'./results_images/median_dissimilarity_vs_{column}.png')\n",
    "    plt.close()  # Close the plot to avoid overwriting\n",
    "\n",
    "# Box plot of dissimilarity by threshold\n",
    "plt.figure(figsize=(10, 6))\n",
    "df.boxplot(column=\"dissimilarity\", by=\"threshold\", grid=False, showfliers=True)\n",
    "\n",
    "# Adjust the plot labels and title\n",
    "plt.xlabel('Threshold Value')\n",
    "plt.ylabel('Dissimilarity')\n",
    "plt.title('Boxplot of Dissimilarity by Threshold Value')\n",
    "plt.suptitle('')  # Removes the automatic title from pandas boxplot\n",
    "plt.grid(True, axis='y')\n",
    "\n",
    "# Save the boxplot\n",
    "plt.savefig('./results_images/boxplot_dissimilarity_by_threshold.png')\n",
    "plt.close()\n",
    "\n",
    "# Scatter plot for threshold vs fan_out (mean dissimilarity)\n",
    "grouped_mean = df.groupby(['threshold', 'fan_out'])['dissimilarity'].mean().reset_index()\n",
    "plt.figure(figsize=(10, 6))\n",
    "scatter = plt.scatter(grouped_mean['threshold'], grouped_mean['fan_out'], \n",
    "                      c=grouped_mean['dissimilarity'], s=grouped_mean['dissimilarity'], \n",
    "                      cmap='viridis', edgecolor='k', alpha=0.7)\n",
    "cbar = plt.colorbar(scatter)\n",
    "cbar.set_label('Mean Dissimilarity')\n",
    "plt.xlabel('Threshold')\n",
    "plt.ylabel('Fan Out')\n",
    "plt.title('Scatter Plot of Threshold vs Fan Out (Size & Color by Mean Dissimilarity)')\n",
    "plt.grid(False)\n",
    "\n",
    "# Save the scatter plot\n",
    "plt.savefig('./results_images/scatter_mean_dissimilarity_threshold_vs_fanout.png')\n",
    "plt.close()\n",
    "\n",
    "# Scatter plot for threshold vs fan_out (median dissimilarity)\n",
    "grouped_median = df.groupby(['threshold', 'fan_out'])['dissimilarity'].median().reset_index()\n",
    "plt.figure(figsize=(10, 6))\n",
    "scatter = plt.scatter(grouped_median['threshold'], grouped_median['fan_out'], \n",
    "                      c=grouped_median['dissimilarity'], s=grouped_median['dissimilarity'], \n",
    "                      cmap='viridis', edgecolor='k', alpha=0.7)\n",
    "cbar = plt.colorbar(scatter)\n",
    "cbar.set_label('Median Dissimilarity')\n",
    "plt.xlabel('Threshold')\n",
    "plt.ylabel('Fan Out')\n",
    "plt.title('Scatter Plot of Threshold vs Fan Out (Size & Color by Median Dissimilarity)')\n",
    "plt.grid(False)\n",
    "\n",
    "# Save the scatter plot\n",
    "plt.savefig('./results_images/scatter_median_dissimilarity_threshold_vs_fanout.png')\n",
    "plt.close()\n",
    "\n",
    "# Histogram of dissimilarity values with median line\n",
    "median_value = df['dissimilarity'].median()\n",
    "plt.figure(figsize=(10, 6))\n",
    "sns.histplot(df['dissimilarity'], kde=True)\n",
    "plt.axvline(median_value, color='red', linestyle='--', linewidth=2, label=f'Median: {median_value:.2f}')\n",
    "plt.title('Full Data Distribution of Dissimilarity Values')\n",
    "plt.xlabel('Dissimilarity')\n",
    "plt.legend()\n",
    "\n",
    "# Save the histogram plot\n",
    "plt.savefig('./results_images/histogram_dissimilarity_with_median.png')\n",
    "plt.close()\n"
   ]
  }
 ],
 "metadata": {
  "kernelspec": {
   "display_name": "tensorflow_v2",
   "language": "python",
   "name": "python3"
  },
  "language_info": {
   "codemirror_mode": {
    "name": "ipython",
    "version": 3
   },
   "file_extension": ".py",
   "mimetype": "text/x-python",
   "name": "python",
   "nbconvert_exporter": "python",
   "pygments_lexer": "ipython3",
   "version": "3.11.9"
  }
 },
 "nbformat": 4,
 "nbformat_minor": 2
}
