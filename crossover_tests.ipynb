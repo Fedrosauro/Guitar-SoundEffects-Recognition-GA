{
 "cells": [
  {
   "cell_type": "markdown",
   "metadata": {},
   "source": [
    "Testing crossover"
   ]
  },
  {
   "cell_type": "code",
   "execution_count": 17,
   "metadata": {},
   "outputs": [
    {
     "name": "stdout",
     "output_type": "stream",
     "text": [
      "Init set: [0, 1, 2, 3, 4, 5]\n",
      "s1: [4, 3, 2, 0, 1, 5]\n",
      "s2: [1, 2, 5]\n",
      "Common elements: [1, 2, 5]\n",
      "Symmetric difference elements: [0, 3, 4]\n",
      "Modified s1: [1, 3, 2, 1, 5]\n",
      "Modified s2: [4, 2, 5, 0]\n"
     ]
    }
   ],
   "source": [
    "import random\n",
    "\n",
    "init_set = [i for i in range(6)]\n",
    "print(f\"Init set: {init_set}\")\n",
    "\n",
    "s1 = random.sample(init_set, random.randint(0, 6))\n",
    "random.shuffle(s1)\n",
    "print(f\"s1: {s1}\")\n",
    "\n",
    "s2 = random.sample(init_set, random.randint(0, 6))\n",
    "random.shuffle(s2)\n",
    "print(f\"s2: {s2}\")\n",
    "\n",
    "\n",
    "# Convert lists to sets for efficient intersection\n",
    "set1 = set(s1)\n",
    "set2 = set(s2)\n",
    "\n",
    "# Find the intersection of the sets (common elements)\n",
    "common_elements = list(set1 & set2)\n",
    "different_elements = list(set1 ^ set2)\n",
    "\n",
    "print(f\"Common elements: {common_elements}\")\n",
    "print(f\"Symmetric difference elements: {different_elements}\")\n",
    "\n",
    "# Choose random indices\n",
    "if len(common_elements) != 0:\n",
    "    index_1 = random.randint(0, len(common_elements) - 1)\n",
    "    # Modify s1 and s2 based on common elements\n",
    "    for i in range(index_1):\n",
    "        s1[i], s2[i] = s2[i], s1[i]\n",
    "if len(different_elements) != 0:\n",
    "    index_2 = random.randint(0, len(different_elements) - 1)\n",
    "    # Modify s1 and s2 based on symmetric difference elements\n",
    "    for j in range(index_2):\n",
    "        element = different_elements[j]\n",
    "        if element in s1:\n",
    "            s1.remove(element)\n",
    "            s2.append(element)\n",
    "        else:\n",
    "            s2.remove(element)\n",
    "            s1.append(element)\n",
    "        \n",
    "print(\"Modified s1:\", s1)\n",
    "print(\"Modified s2:\", s2)"
   ]
  }
 ],
 "metadata": {
  "kernelspec": {
   "display_name": "GA_testing_env",
   "language": "python",
   "name": "python3"
  },
  "language_info": {
   "codemirror_mode": {
    "name": "ipython",
    "version": 3
   },
   "file_extension": ".py",
   "mimetype": "text/x-python",
   "name": "python",
   "nbconvert_exporter": "python",
   "pygments_lexer": "ipython3",
   "version": "3.11.10"
  }
 },
 "nbformat": 4,
 "nbformat_minor": 2
}
