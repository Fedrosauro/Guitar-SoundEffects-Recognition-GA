{
 "cells": [
  {
   "cell_type": "markdown",
   "metadata": {},
   "source": [
    "### Audio to MIDI"
   ]
  },
  {
   "cell_type": "code",
   "execution_count": 1,
   "metadata": {},
   "outputs": [
    {
     "name": "stderr",
     "output_type": "stream",
     "text": [
      "scikit-learn version 1.5.1 is not supported. Minimum required version: 0.17. Maximum required version: 1.1.2. Disabling scikit-learn conversion API.\n"
     ]
    },
    {
     "name": "stdout",
     "output_type": "stream",
     "text": [
      "WARNING:tensorflow:From c:\\Users\\pelli\\anaconda3\\envs\\tensorflow_v2\\Lib\\site-packages\\keras\\src\\losses.py:2976: The name tf.losses.sparse_softmax_cross_entropy is deprecated. Please use tf.compat.v1.losses.sparse_softmax_cross_entropy instead.\n",
      "\n"
     ]
    },
    {
     "name": "stderr",
     "output_type": "stream",
     "text": [
      "TensorFlow version 2.15.0 has not been tested with coremltools. You may run into unexpected errors. TensorFlow 2.12.0 is the most recent version that has been tested.\n",
      "Failed to load _MLModelProxy: No module named 'coremltools.libcoremlpython'\n",
      "Fail to import BlobReader from libmilstoragepython. No module named 'coremltools.libmilstoragepython'\n",
      "Fail to import BlobWriter from libmilstoragepython. No module named 'coremltools.libmilstoragepython'\n",
      "WARNING:root:tflite-runtime is not installed. If you plan to use a TFLite Model, reinstall basic-pitch with `pip install 'basic-pitch tflite-runtime'` or `pip install 'basic-pitch[tf]'\n"
     ]
    }
   ],
   "source": [
    "from basic_pitch import ICASSP_2022_MODEL_PATH, inference"
   ]
  },
  {
   "cell_type": "code",
   "execution_count": 2,
   "metadata": {},
   "outputs": [],
   "source": [
    "def mp3_to_midi(audio_path, midi_path):\n",
    "    _, midi_data, __ = inference.predict(\n",
    "        audio_path,    \n",
    "        model_or_model_path = ICASSP_2022_MODEL_PATH, \n",
    "        onset_threshold = 0.6, #note segmentation 1) how easily a note should be split into two. (split notes <- ..0.5.. -> merge notes)\n",
    "        frame_threshold = 0.6, #model confidence threshold 2) the model confidence required to create a note. (more notes <- ..0.3.. -> fewer notes)\n",
    "    )\n",
    "\n",
    "    for instrument in midi_data.instruments:\n",
    "        instrument.program = 30 #distortion guitar program\n",
    "\n",
    "    midi_data.write(midi_path)"
   ]
  },
  {
   "cell_type": "code",
   "execution_count": 3,
   "metadata": {},
   "outputs": [
    {
     "name": "stdout",
     "output_type": "stream",
     "text": [
      "Predicting MIDI for input_audio_to_midi/3.mp3...\n"
     ]
    }
   ],
   "source": [
    "audio_path = \"input_audio_to_midi/3.mp3\"\n",
    "midi_path = \"output_audio_to_midi/3.mid\"\n",
    "\n",
    "mp3_to_midi(audio_path, midi_path)"
   ]
  },
  {
   "cell_type": "markdown",
   "metadata": {},
   "source": [
    "Other method to create the midi file"
   ]
  },
  {
   "cell_type": "code",
   "execution_count": null,
   "metadata": {},
   "outputs": [],
   "source": [
    "#inference.predict_and_save(\n",
    "#    audio_path_list = [audio_path],\n",
    "#    output_directory = \"output_audio_to_midi\",\n",
    "#    save_midi = True,\n",
    "#    sonify_midi = False,\n",
    "#    save_model_outputs = False,\n",
    "#    save_notes = False,\n",
    "#    model_or_model_path = ICASSP_2022_MODEL_PATH,\n",
    "#    #midi_tempo = tempo, #BPM\n",
    "#    onset_threshold = 0.6, #note segmentation 1)\n",
    "#    frame_threshold = 0.6, #model confidence threshold 2)\n",
    "#    multiple_pitch_bends = True\n",
    "#)"
   ]
  },
  {
   "cell_type": "markdown",
   "metadata": {},
   "source": [
    "#### Play back the midi file "
   ]
  },
  {
   "cell_type": "code",
   "execution_count": 98,
   "metadata": {},
   "outputs": [],
   "source": [
    "import tinysoundfont\n",
    "import time\n",
    "\n",
    "synth = tinysoundfont.Synth()\n",
    "sfid = synth.sfload(\"FluidR3_GM.sf2\")\n",
    "\n",
    "seq = tinysoundfont.Sequencer(synth)\n",
    "seq.midi_load(\"output_audio_to_midi/scala_basic_pitch.mid\")\n",
    "\n",
    "# Larger buffer because latency is not important\n",
    "synth.start(buffer_size=4096)\n",
    "\n",
    "while not seq.is_empty():\n",
    "    time.sleep(0.5)"
   ]
  },
  {
   "cell_type": "markdown",
   "metadata": {},
   "source": [
    "#### Inspecting the .sfx file"
   ]
  },
  {
   "cell_type": "code",
   "execution_count": 2,
   "metadata": {},
   "outputs": [
    {
     "name": "stdout",
     "output_type": "stream",
     "text": [
      "Bank 0, Preset 0: Yamaha Grand Piano\n",
      "Bank 0, Preset 1: Bright Yamaha Grand\n",
      "Bank 0, Preset 2: Electric Piano\n",
      "Bank 0, Preset 3: Honky Tonk\n",
      "Bank 0, Preset 4: Rhodes EP\n",
      "Bank 0, Preset 5: Legend EP 2\n",
      "Bank 0, Preset 6: Harpsichord\n",
      "Bank 0, Preset 7: Clavinet\n",
      "Bank 0, Preset 8: Celesta\n",
      "Bank 0, Preset 9: Glockenspiel\n",
      "Bank 0, Preset 10: Music Box\n",
      "Bank 0, Preset 11: Vibraphone\n",
      "Bank 0, Preset 12: Marimba\n",
      "Bank 0, Preset 13: Xylophone\n",
      "Bank 0, Preset 14: Tubular Bells\n",
      "Bank 0, Preset 15: Dulcimer\n",
      "Bank 0, Preset 16: DrawbarOrgan\n",
      "Bank 0, Preset 17: Percussive Organ\n",
      "Bank 0, Preset 18: Rock Organ\n",
      "Bank 0, Preset 19: Church Organ\n",
      "Bank 0, Preset 20: Reed Organ\n",
      "Bank 0, Preset 21: Accordian\n",
      "Bank 0, Preset 22: Harmonica\n",
      "Bank 0, Preset 23: Bandoneon\n",
      "Bank 0, Preset 24: Nylon String Guitar\n",
      "Bank 0, Preset 25: Steel String Guitar\n",
      "Bank 0, Preset 26: Jazz Guitar\n",
      "Bank 0, Preset 27: Clean Guitar\n",
      "Bank 0, Preset 28: Palm Muted Guitar\n",
      "Bank 0, Preset 29: Overdrive Guitar\n",
      "Bank 0, Preset 30: Distortion Guitar\n",
      "Bank 0, Preset 31: Guitar Harmonics\n",
      "Bank 0, Preset 32: Acoustic Bass\n",
      "Bank 0, Preset 33: Fingered Bass\n",
      "Bank 0, Preset 34: Picked Bass\n",
      "Bank 0, Preset 35: Fretless Bass\n",
      "Bank 0, Preset 36: Slap Bass\n",
      "Bank 0, Preset 37: Pop Bass\n",
      "Bank 0, Preset 38: Synth Bass 1\n",
      "Bank 0, Preset 39: Synth Bass 2\n",
      "Bank 0, Preset 40: Violin\n",
      "Bank 0, Preset 41: Viola\n",
      "Bank 0, Preset 42: Cello\n",
      "Bank 0, Preset 43: Contrabass\n",
      "Bank 0, Preset 44: Tremolo\n",
      "Bank 0, Preset 45: Pizzicato Section\n",
      "Bank 0, Preset 46: Harp\n",
      "Bank 0, Preset 47: Timpani\n",
      "Bank 0, Preset 48: Strings\n",
      "Bank 0, Preset 49: Slow Strings\n",
      "Bank 0, Preset 50: Synth Strings 1\n",
      "Bank 0, Preset 51: Synth Strings 2\n",
      "Bank 0, Preset 52: Ahh Choir\n",
      "Bank 0, Preset 53: Ohh Voices\n",
      "Bank 0, Preset 54: Synth Voice\n",
      "Bank 0, Preset 55: Orchestra Hit\n",
      "Bank 0, Preset 56: Trumpet\n",
      "Bank 0, Preset 57: Trombone\n",
      "Bank 0, Preset 58: Tuba\n",
      "Bank 0, Preset 59: Muted Trumpet\n",
      "Bank 0, Preset 60: French Horns\n",
      "Bank 0, Preset 61: Brass Section\n",
      "Bank 0, Preset 62: Synth Brass 1\n",
      "Bank 0, Preset 63: Synth Brass 2\n",
      "Bank 0, Preset 64: Soprano Sax\n",
      "Bank 0, Preset 65: Alto Sax\n",
      "Bank 0, Preset 66: Tenor Sax\n",
      "Bank 0, Preset 67: Baritone Sax\n",
      "Bank 0, Preset 68: Oboe\n",
      "Bank 0, Preset 69: English Horn\n",
      "Bank 0, Preset 70: Bassoon\n",
      "Bank 0, Preset 71: Clarinet\n",
      "Bank 0, Preset 72: Piccolo\n",
      "Bank 0, Preset 73: Flute\n",
      "Bank 0, Preset 74: Recorder\n",
      "Bank 0, Preset 75: Pan Flute\n",
      "Bank 0, Preset 76: Bottle Chiff\n",
      "Bank 0, Preset 77: Shakuhachi\n",
      "Bank 0, Preset 78: Whistle\n",
      "Bank 0, Preset 79: Ocarina\n",
      "Bank 0, Preset 80: Square Lead\n",
      "Bank 0, Preset 81: Saw Wave\n",
      "Bank 0, Preset 82: Calliope Lead\n",
      "Bank 0, Preset 83: Chiffer Lead\n",
      "Bank 0, Preset 84: Charang\n",
      "Bank 0, Preset 85: Solo Vox\n",
      "Bank 0, Preset 86: Fifth Sawtooth Wave\n",
      "Bank 0, Preset 87: Bass & Lead\n",
      "Bank 0, Preset 88: Fantasia\n",
      "Bank 0, Preset 89: Warm Pad\n",
      "Bank 0, Preset 90: Polysynth\n",
      "Bank 0, Preset 91: Space Voice\n",
      "Bank 0, Preset 92: Bowed Glass\n",
      "Bank 0, Preset 93: Metal Pad\n",
      "Bank 0, Preset 94: Halo Pad\n",
      "Bank 0, Preset 95: Sweep Pad\n",
      "Bank 0, Preset 96: Ice Rain\n",
      "Bank 0, Preset 97: Soundtrack\n",
      "Bank 0, Preset 98: Crystal\n",
      "Bank 0, Preset 99: Atmosphere\n",
      "Bank 0, Preset 100: Brightness\n",
      "Bank 0, Preset 101: Goblin\n",
      "Bank 0, Preset 102: Echo Drops\n",
      "Bank 0, Preset 103: Star Theme\n",
      "Bank 0, Preset 104: Sitar\n",
      "Bank 0, Preset 105: Banjo\n",
      "Bank 0, Preset 106: Shamisen\n",
      "Bank 0, Preset 107: Koto\n",
      "Bank 0, Preset 108: Kalimba\n",
      "Bank 0, Preset 109: BagPipe\n",
      "Bank 0, Preset 110: Fiddle\n",
      "Bank 0, Preset 111: Shenai\n",
      "Bank 0, Preset 112: Tinker Bell\n",
      "Bank 0, Preset 113: Agogo\n",
      "Bank 0, Preset 114: Steel Drums\n",
      "Bank 0, Preset 115: Woodblock\n",
      "Bank 0, Preset 116: Taiko Drum\n",
      "Bank 0, Preset 117: Melodic Tom\n",
      "Bank 0, Preset 118: Synth Drum\n",
      "Bank 0, Preset 119: Reverse Cymbal\n",
      "Bank 0, Preset 120: Fret Noise\n",
      "Bank 0, Preset 121: Breath Noise\n",
      "Bank 0, Preset 122: Sea Shore\n",
      "Bank 0, Preset 123: Bird Tweet\n",
      "Bank 0, Preset 124: Telephone\n",
      "Bank 0, Preset 125: Helicopter\n",
      "Bank 0, Preset 126: Applause\n",
      "Bank 0, Preset 127: Gun Shot\n",
      "Bank 8, Preset 4: Detuned EP 1\n",
      "Bank 8, Preset 5: Detuned EP 2\n",
      "Bank 8, Preset 6: Coupled Harpsichord\n",
      "Bank 8, Preset 14: Church Bell\n",
      "Bank 8, Preset 16: Detuned Organ 1\n",
      "Bank 8, Preset 17: Detuned Organ 2\n",
      "Bank 8, Preset 19: Church Organ 2\n",
      "Bank 8, Preset 21: Italian Accordion\n",
      "Bank 8, Preset 24: Ukulele\n",
      "Bank 8, Preset 25: 12 String Guitar\n",
      "Bank 8, Preset 26: Hawaiian Guitar\n",
      "Bank 8, Preset 28: Funk Guitar\n",
      "Bank 8, Preset 30: Feedback Guitar\n",
      "Bank 8, Preset 31: Guitar Feedback\n",
      "Bank 8, Preset 38: Synth Bass 3\n",
      "Bank 8, Preset 39: Synth Bass 4\n",
      "Bank 8, Preset 40: Slow Violin\n",
      "Bank 8, Preset 48: Orchestral Pad\n",
      "Bank 8, Preset 50: Synth Strings 3\n",
      "Bank 8, Preset 61: Brass 2\n",
      "Bank 8, Preset 62: Synth Brass 3\n",
      "Bank 8, Preset 63: Synth Brass 4\n",
      "Bank 8, Preset 80: Sine Wave\n",
      "Bank 8, Preset 107: Taisho Koto\n",
      "Bank 8, Preset 115: Castanets\n",
      "Bank 8, Preset 116: Concert Bass Drum\n",
      "Bank 8, Preset 117: Melo Tom 2\n",
      "Bank 8, Preset 118: 808 Tom\n",
      "Bank 9, Preset 125: Burst Noise\n",
      "Bank 16, Preset 25: Mandolin\n"
     ]
    }
   ],
   "source": [
    "import tinysoundfont\n",
    "\n",
    "# Load the SoundFont\n",
    "synth = tinysoundfont.Synth()\n",
    "sfid = synth.sfload(\"FluidR3_GM.sf2\")\n",
    "\n",
    "# List all the presets in the SoundFont\n",
    "for bank in range(128):  # MIDI supports up to 128 banks\n",
    "    for preset in range(128):  # Each bank has up to 128 presets\n",
    "        preset_name = synth.sfpreset_name(sfid, bank, preset)\n",
    "        if preset_name:\n",
    "            print(f\"Bank {bank}, Preset {preset}: {preset_name}\")"
   ]
  },
  {
   "cell_type": "markdown",
   "metadata": {},
   "source": [
    "### MIDI to audio"
   ]
  },
  {
   "cell_type": "code",
   "execution_count": 4,
   "metadata": {},
   "outputs": [],
   "source": [
    "from midi2audio import FluidSynth \n",
    "from pydub import AudioSegment"
   ]
  },
  {
   "cell_type": "code",
   "execution_count": 5,
   "metadata": {},
   "outputs": [],
   "source": [
    "def midi_to_mp3(midi_file, mp3_file, soundfont):\n",
    "    #convert MIDI to WAV using FluidSynth\n",
    "    fs = FluidSynth(soundfont)\n",
    "    wav_file = midi_file.replace('.midi', '.wav').replace('.mid', '.wav')\n",
    "    fs.midi_to_audio(midi_file, wav_file)\n",
    "\n",
    "    #convert WAV to MP3 using pydub\n",
    "    sound = AudioSegment.from_wav(wav_file)\n",
    "    sound.export(mp3_file, format=\"mp3\")\n",
    "\n",
    "    print(f\"Conversion complete: {mp3_file}\")"
   ]
  },
  {
   "cell_type": "code",
   "execution_count": 6,
   "metadata": {},
   "outputs": [
    {
     "name": "stdout",
     "output_type": "stream",
     "text": [
      "Conversion complete: output_audio_to_midi/3_output.mp3\n"
     ]
    }
   ],
   "source": [
    "midi_file = \"output_audio_to_midi/3.mid\"\n",
    "mp3_file = \"output_audio_to_midi/3_output.mp3\"\n",
    "soundfont = 'FluidR3_GM.sf2'  # Path to your SoundFont file\n",
    "\n",
    "midi_to_mp3(midi_file, mp3_file, soundfont)"
   ]
  }
 ],
 "metadata": {
  "kernelspec": {
   "display_name": "GA_testing_env",
   "language": "python",
   "name": "python3"
  },
  "language_info": {
   "codemirror_mode": {
    "name": "ipython",
    "version": 3
   },
   "file_extension": ".py",
   "mimetype": "text/x-python",
   "name": "python",
   "nbconvert_exporter": "python",
   "pygments_lexer": "ipython3",
   "version": "3.11.10"
  }
 },
 "nbformat": 4,
 "nbformat_minor": 2
}
